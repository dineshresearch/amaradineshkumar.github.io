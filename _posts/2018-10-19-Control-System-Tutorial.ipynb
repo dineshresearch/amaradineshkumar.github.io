{
 "cells": [
  {
   "cell_type": "markdown",
   "metadata": {
    "collapsed": false
   },
   "source": [
    "# Introduction\n",
    "\n",
    "## Controllable\n",
    "If we can get the full state space \n",
    "In our case: By changing the value of K (gain) we should be able to change the eigen values of the closed loop system to our desired eigen values then we can tell that the system is controllable.\n",
    "\n",
    "State controllability\n",
    "Output controllability\n",
    "Controllability in the behavioural framework\n",
    "\n",
    "<div align=\"center\">\n",
    "   <iframe width=\"1519\" height=\"554\" src=\"https://www.youtube.com/embed/M_jchYsTZvM?list=PLMrJAkhIeNNR20Mz-VpzgfQs5zrYi085m\" frameborder=\"0\" allow=\"autoplay; encrypted-media\" allowfullscreen></iframe>\n",
    "</div>\n",
    "\n",
    "\n",
    "\\begin{equation}\n",
    "y=\\left(\\begin{array}{c}x\\\\ \\dot{x} \\\\ \\theta \\\\ \\dot{\\theta} \\end{array}\\right) \n",
    "\\end{equation}\n",
    "\n",
    "Finally it should lead to \n",
    "\\begin{equation}\n",
    "y=\\left(\\begin{array}{c}1\\\\ 0 \\\\ \\pi \\\\ 0 \\end{array}\\right) \n",
    "\\end{equation}\n",
    "For inverted pendulum to get to stable state\n",
    "\n",
    "\\begin{equation}\n",
    "\\dot{X}=Ax+Bu\n",
    "\\end{equation}\n",
    "\\begin{equation}\n",
    "u=-Kx\n",
    "\\end{equation}\n",
    "\\begin{equation}\n",
    "\\dot{X}=(A-BK)x\n",
    "\\end{equation}\n",
    "\n",
    "## Why eigen values and poles of a system are equivalent?\n",
    "\n",
    "By measuring the full state feedback we can get back the full state space of the control system (We can keep the eigne values any where we want) then we can tell that the system is controllable.\n",
    "\n",
    "State Controllability: By giving the esternal control input we can move the internal state of the system from any initial state to final state within in a finite time period."
   ]
  },
  {
   "cell_type": "markdown",
   "metadata": {
    "collapsed": false
   },
   "source": [
    "# IN LQR\n",
    "Linear full state feedback controller \n",
    "and it is a quadratic cost function\n",
    "\n",
    "\n",
    "\\begin{equation}\n",
    "J = \\int_{0}^{\\infty}(x^{T}Qx+u^{T}Ru)dt\n",
    "\\end{equation}\n",
    "\n",
    "\n",
    "<div align=\"center\">\n",
    "    <iframe width=\"1519\" height=\"554\" src=\"https://www.youtube.com/embed/1_UobILf3cc?list=PLMrJAkhIeNNR20Mz-VpzgfQs5zrYi085m\" frameborder=\"0\" allow=\"autoplay; encrypted-media\" allowfullscreen></iframe>\n",
    "</div>"
   ]
  },
  {
   "cell_type": "markdown",
   "metadata": {
    "collapsed": false
   },
   "source": [
    "|![Figure 1-1](https://www.researchgate.net/publication/262484498/figure/fig6/AS:324805573267474@1454451091285/The-structure-of-LQR-control-system.png)|\n",
    "|:--:| \n",
    "| *Control System with Closed Loop Feedback* |\n",
    "\n",
    "\n",
    "\n",
    "*image_caption*"
   ]
  },
  {
   "cell_type": "code",
   "execution_count": 0,
   "metadata": {
    "collapsed": false
   },
   "outputs": [
   ],
   "source": [
   ]
  }
 ],
 "metadata": {
  "kernelspec": {
   "display_name": "SageMath (stable)",
   "name": "sagemath"
  }
 },
 "nbformat": 4,
 "nbformat_minor": 0
}
